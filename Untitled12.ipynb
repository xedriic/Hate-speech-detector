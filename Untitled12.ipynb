{
  "nbformat": 4,
  "nbformat_minor": 0,
  "metadata": {
    "colab": {
      "provenance": []
    },
    "kernelspec": {
      "name": "python3",
      "display_name": "Python 3"
    },
    "language_info": {
      "name": "python"
    }
  },
  "cells": [
    {
      "cell_type": "code",
      "execution_count": 1,
      "metadata": {
        "colab": {
          "base_uri": "https://localhost:8080/"
        },
        "id": "oG2ywFtNevjV",
        "outputId": "786730bc-6109-4ee9-ac7f-6d90810e233a"
      },
      "outputs": [
        {
          "output_type": "stream",
          "name": "stdout",
          "text": [
            "Hate speech detected! Offensive words: ['cockroaches', 'kill', 'exterminate', 'destroy', 'tutsi']\n"
          ]
        }
      ],
      "source": [
        "offensive_words = [\n",
        "    \"inyenzi\", \"cockroaches\", \"kill\", \"exterminate\", \"destroy\", \"traitors\",\n",
        "    \"snakes\", \"rats\", \"hutu power\", \"tutsi\", \"ethnic cleansing\", \"wipe out\",\n",
        "    \"enemy\", \"revenge\", \"impurity\", \"traitors\", \"infiltrators\", \"parasites\"\n",
        "]\n",
        "\n",
        "def detect_hate_speech(text):\n",
        "    if not text:\n",
        "        return []\n",
        "\n",
        "    detected_words = [word for word in offensive_words if word in text.lower()]\n",
        "    return detected_words\n",
        "\n",
        "# Example usage\n",
        "text = (\"The Tutsis are like cockroaches, they must be exterminated, they must be killed, and we, the Hutus, will be the ones to do it. We must carry out our revolution, and the revolution is to eliminate the Tutsi. If we do not kill them, they will kill us. There are no more excuses. We must be like the grasshoppers and finish off the cockroaches. We must get rid of them. We will have to be like the grasshoppers that finish off the cockroaches. The only way to stop this is to have the Tutsi leave Rwanda. They must be sent back to Ethiopia. They will be repatriated, and they will no longer be a problem. If we don’t do it, they will eventually kill us. We must act now before they destroy us\")\n",
        "\n",
        "hate_words = detect_hate_speech(text)\n",
        "\n",
        "if hate_words:\n",
        "    print(\"Hate speech detected! Offensive words:\", hate_words)\n",
        "else:\n",
        "    print(\"No hate speech detected.\")\n"
      ]
    }
  ]
}